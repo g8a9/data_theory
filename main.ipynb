{
 "cells": [
  {
   "cell_type": "markdown",
   "id": "defensive-decision",
   "metadata": {},
   "source": [
    "# Introduction\n",
    "\n",
    "In this laboratory, you will get acquainted to the basic visualization techniques for the Exploratory Data Analysis (EDA). You will deal with charts to\n",
    "- analyze a data distribution, like **histograms**, **boxplots** and **violin plots**\n",
    "- explore relationships and (linear) correlations in your data, like **scatterplots** or **heatmaps**\n",
    "- visualize the trend and some salient information of a **time series**.\n",
    "\n",
    "Choosing the right type of chart for the type of data at hand is a never ending job. Some [communities](https://www.reddit.com/r/dataisbeautiful/) took it seriously since a while. You will soon find yourself eager to test many approaches: this laboratory will help you getting started.  \n",
    "\n",
    "## Structure\n",
    "\n",
    "Each main section of the notebook introduces one of the chart categories listed above. Within the sections, you will find a brief description of type of plot you are required to build, along with a short snippet of code that produces the chart on syntetic data.\n",
    "\n",
    "The whole notebook is written in **Python**. The code level is introductory: if your are a Python master, bear with me.\n",
    "\n",
    "For your convenience, some parts of the notebook are pre-compiled, we filled the boilerplate code for you. Although the notebook is sequential, each section is self-contained: feel free to skip back and forth you are more interested in specific parts.\n",
    "  \n",
    "---\n",
    " \n",
    "So, to recap. Let's say your client provides you and your team a large set of raw, unprocessed data and you are the one in charge to do a first EDA pass. And you happen to know Python.\n",
    "\n",
    "![Data Viz](https://venngage-wordpress.s3.amazonaws.com/uploads/2020/06/image17.png)\n",
    "\n",
    "## Before we start: Python & Co.\n",
    "\n",
    "Python is the *standard de-facto* ecosystem for data scientists and practitionaires. If I had to summarized its advantages over other languages like R, or even some GUI-enabled tools, I would say:\n",
    "\n",
    "- a large, well-documented standard library, and a *huge* number of third-part libraries for virtually *everything* you need\n",
    "- a large, supportive community with a lot of resources\n",
    "- modern Python keeps the syntax at a minimum. To run data science and visualization experiments, the python code almost reduces to *plain english*\n",
    "- a series of online tools that let you experiment with the language: you only need a Google Account to create [Colab](https://colab.research.google.com/notebook) Notebooks, and the same applies for [Kaggle](https://www.kaggle.com/), [Deepnote](https://deepnote.com/), and many more.\n",
    "\n",
    "In this laboratory, we will three popular libraries: [NumPy](https://numpy.org/devdocs/index.html), [pandas](https://pandas.pydata.org/docs/) and [seaborn](https://seaborn.pydata.org/). Let's run the cell below to check and install all the dependecies for these libraries (do not worry about warnings)."
   ]
  },
  {
   "cell_type": "code",
   "execution_count": 4,
   "id": "regional-fitness",
   "metadata": {},
   "outputs": [
    {
     "name": "stdout",
     "output_type": "stream",
     "text": [
      "WARNING: pip is being invoked by an old script wrapper. This will fail in a future version of pip.\n",
      "Please see https://github.com/pypa/pip/issues/5599 for advice on fixing the underlying issue.\n",
      "To avoid this problem you can invoke Python with '-m pip' instead of running pip directly.\n",
      "WARNING: pip is being invoked by an old script wrapper. This will fail in a future version of pip.\n",
      "Please see https://github.com/pypa/pip/issues/5599 for advice on fixing the underlying issue.\n",
      "To avoid this problem you can invoke Python with '-m pip' instead of running pip directly.\n",
      "WARNING: pip is being invoked by an old script wrapper. This will fail in a future version of pip.\n",
      "Please see https://github.com/pypa/pip/issues/5599 for advice on fixing the underlying issue.\n",
      "To avoid this problem you can invoke Python with '-m pip' instead of running pip directly.\n"
     ]
    }
   ],
   "source": [
    "!pip install --quiet --user numpy\n",
    "!pip install --quiet --user pandas\n",
    "!pip install --quiet --user seaborn"
   ]
  },
  {
   "cell_type": "markdown",
   "id": "conscious-apple",
   "metadata": {},
   "source": [
    "#### Imports\n",
    "\n",
    "We can import them now and provide an alias with"
   ]
  },
  {
   "cell_type": "code",
   "execution_count": 13,
   "id": "muslim-highland",
   "metadata": {},
   "outputs": [],
   "source": [
    "import numpy as np\n",
    "import pandas as pd\n",
    "import seaborn as sns\n",
    "\n",
    "# set the style for all the charts in the notebook\n",
    "sns.set_theme(\"notebook\")"
   ]
  },
  {
   "cell_type": "markdown",
   "id": "desperate-murder",
   "metadata": {},
   "source": [
    "### Data Manipulation\n",
    "\n",
    "NumPy and Pandas let you easily handle numerical arrays and tabular data respectively.\n",
    "Simply put, NumPy (or numpy in the following) is your best companion for the Geometry class, while Pandas provides you a table-like access to your data (with index and column names, and so on). \"Tables\" in pandas are known as DataFrames.\n",
    "\n",
    "They have been thoroughly covered in the course Data Science Lab: process and methods at Politecnico di Torino. If you are interest, feel free to visit the [course website](https://dbdmg.polito.it/wordpress/teaching/data-science-lab-process-and-methods-2020-2021/) for slides and laboratories.\n",
    "\n",
    "To give a practical example, let's see how we create a simple array with number from 0 to 99 in numpy: "
   ]
  },
  {
   "cell_type": "code",
   "execution_count": 8,
   "id": "developing-husband",
   "metadata": {},
   "outputs": [
    {
     "data": {
      "text/plain": [
       "array([ 0,  1,  2,  3,  4,  5,  6,  7,  8,  9, 10, 11, 12, 13, 14, 15, 16,\n",
       "       17, 18, 19, 20, 21, 22, 23, 24, 25, 26, 27, 28, 29, 30, 31, 32, 33,\n",
       "       34, 35, 36, 37, 38, 39, 40, 41, 42, 43, 44, 45, 46, 47, 48, 49, 50,\n",
       "       51, 52, 53, 54, 55, 56, 57, 58, 59, 60, 61, 62, 63, 64, 65, 66, 67,\n",
       "       68, 69, 70, 71, 72, 73, 74, 75, 76, 77, 78, 79, 80, 81, 82, 83, 84,\n",
       "       85, 86, 87, 88, 89, 90, 91, 92, 93, 94, 95, 96, 97, 98, 99])"
      ]
     },
     "execution_count": 8,
     "metadata": {},
     "output_type": "execute_result"
    }
   ],
   "source": [
    "np.arange(100)"
   ]
  },
  {
   "cell_type": "markdown",
   "id": "corrected-circular",
   "metadata": {},
   "source": [
    "or how we create a table-like dataset with pandas:"
   ]
  },
  {
   "cell_type": "code",
   "execution_count": 12,
   "id": "equivalent-hotel",
   "metadata": {},
   "outputs": [
    {
     "data": {
      "text/html": [
       "<div>\n",
       "<style scoped>\n",
       "    .dataframe tbody tr th:only-of-type {\n",
       "        vertical-align: middle;\n",
       "    }\n",
       "\n",
       "    .dataframe tbody tr th {\n",
       "        vertical-align: top;\n",
       "    }\n",
       "\n",
       "    .dataframe thead th {\n",
       "        text-align: right;\n",
       "    }\n",
       "</style>\n",
       "<table border=\"1\" class=\"dataframe\">\n",
       "  <thead>\n",
       "    <tr style=\"text-align: right;\">\n",
       "      <th></th>\n",
       "      <th>Age</th>\n",
       "      <th>Gender</th>\n",
       "    </tr>\n",
       "  </thead>\n",
       "  <tbody>\n",
       "    <tr>\n",
       "      <th>0</th>\n",
       "      <td>22</td>\n",
       "      <td>Male</td>\n",
       "    </tr>\n",
       "    <tr>\n",
       "      <th>1</th>\n",
       "      <td>43</td>\n",
       "      <td>Female</td>\n",
       "    </tr>\n",
       "    <tr>\n",
       "      <th>2</th>\n",
       "      <td>19</td>\n",
       "      <td>Female</td>\n",
       "    </tr>\n",
       "  </tbody>\n",
       "</table>\n",
       "</div>"
      ],
      "text/plain": [
       "   Age  Gender\n",
       "0   22    Male\n",
       "1   43  Female\n",
       "2   19  Female"
      ]
     },
     "execution_count": 12,
     "metadata": {},
     "output_type": "execute_result"
    }
   ],
   "source": [
    "pd.DataFrame({\"Age\": [22, 43, 19], \"Gender\": [\"Male\", \"Female\", \"Female\"]})"
   ]
  },
  {
   "cell_type": "markdown",
   "id": "standing-monitoring",
   "metadata": {},
   "source": [
    "### Data Visualization\n",
    "\n",
    "The most used library for data visualization in python is [matplotlib](https://matplotlib.org/). However, in this laboratory, you will use **seaborn**.\n",
    "Seaborn is a matplotlib wrapper which provides simpler-to-use, high-level APIs to produce charts with better quality and lower effort.\n",
    "\n",
    "## Datasets\n",
    "\n",
    "You will deal with two different types of data.\n",
    "\n",
    "First, we will focus on tabular data, with the [Stroke Prediction Dataset](https://www.kaggle.com/fedesoriano/stroke-prediction-dataset). The dataset contains\n",
    "\n",
    "Next, we will do some finance. We collected the ticker prices of eight publicly traded companies, namely Amazon (AMZN), AAPL (AAPL), Alphabet Inc (GOOG), Microsoft (MSFT), Johnson & Johnson (JNJ), Pfizer (PFE), Sanofi (SNY), and AstraZeneca (AZN). Not by coincidence, four of them belong to the tech sector, and the rest to healthcare.\n",
    "\n",
    "Run the cell below to download and extract the datasets."
   ]
  },
  {
   "cell_type": "code",
   "execution_count": 17,
   "id": "least-cattle",
   "metadata": {},
   "outputs": [],
   "source": [
    "!wget -q https://dbdmg.polito.it/wordpress/wp-content/uploads/2021/05/datasets_Data_Theory_Python.zip -O datasets.zip\n",
    "!unzip -qu datasets.zip\n",
    "!rm datasets.zip"
   ]
  },
  {
   "cell_type": "markdown",
   "id": "terminal-relief",
   "metadata": {},
   "source": [
    "# Exercise 1. Tabular Data: Stroke Data\n",
    "\n",
    "# Exercise 2. Data Correlation\n",
    "\n",
    "# Exercise 3. Time series\n",
    "\n",
    "# Conclusion (and what we have left behind)\n",
    "\n",
    "# Bonus #1. Dimensionality Reduction\n",
    "\n",
    "# Bonus #2: Interactivity"
   ]
  },
  {
   "cell_type": "markdown",
   "id": "golden-captain",
   "metadata": {},
   "source": [
    "# Credits\n",
    "\n",
    "This notebook was created by [Giuseppe Attanasio](https://gattanasio.cc), PhD student @ Politecnico di Torino.\n",
    "You are free to download, edit and publish newer versions of the notebook.\n",
    "\n",
    "Credit to *fedesoriano* for sharing the Stroke Prediction Dataset on Kaggle.\n",
    "Ticker data is retrieved from Yahoo Finance.\n",
    "\n",
    "*v1: 02/05/2021*\n"
   ]
  }
 ],
 "metadata": {
  "kernelspec": {
   "display_name": "Python 3",
   "language": "python",
   "name": "python3"
  },
  "language_info": {
   "codemirror_mode": {
    "name": "ipython",
    "version": 3
   },
   "file_extension": ".py",
   "mimetype": "text/x-python",
   "name": "python",
   "nbconvert_exporter": "python",
   "pygments_lexer": "ipython3",
   "version": "3.7.9"
  }
 },
 "nbformat": 4,
 "nbformat_minor": 5
}
